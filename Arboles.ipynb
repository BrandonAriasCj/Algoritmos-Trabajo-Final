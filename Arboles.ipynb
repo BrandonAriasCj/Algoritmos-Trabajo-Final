{
 "cells": [
  {
   "cell_type": "code",
   "execution_count": 1,
   "metadata": {},
   "outputs": [],
   "source": [
    "class arbolBinario:\n",
    "    def __init__(self, dato, left=None, right=None):\n",
    "        self.dato = dato\n",
    "        self.left = left\n",
    "        self.right = right"
   ]
  },
  {
   "cell_type": "code",
   "execution_count": 2,
   "metadata": {},
   "outputs": [],
   "source": [
    "root = arbolBinario(\"Productos\")\n",
    "d1 = arbolBinario(\"Perecibles\")\n",
    "d2 = arbolBinario(\"No Perecibles\")\n",
    "\n",
    "root.left = d1\n",
    "root.right = d2"
   ]
  },
  {
   "cell_type": "code",
   "execution_count": 5,
   "metadata": {},
   "outputs": [
    {
     "name": "stdout",
     "output_type": "stream",
     "text": [
      "Productos\n",
      "Perecibles\n",
      "No Perecibles\n"
     ]
    }
   ],
   "source": [
    "print(root.dato)\n",
    "print(root.left.dato)\n",
    "print(root.right.dato)"
   ]
  }
 ],
 "metadata": {
  "kernelspec": {
   "display_name": "Python 3",
   "language": "python",
   "name": "python3"
  },
  "language_info": {
   "codemirror_mode": {
    "name": "ipython",
    "version": 3
   },
   "file_extension": ".py",
   "mimetype": "text/x-python",
   "name": "python",
   "nbconvert_exporter": "python",
   "pygments_lexer": "ipython3",
   "version": "3.10.11"
  }
 },
 "nbformat": 4,
 "nbformat_minor": 2
}
