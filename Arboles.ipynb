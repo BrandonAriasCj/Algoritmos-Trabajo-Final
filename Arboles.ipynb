{
 "cells": [
  {
   "cell_type": "code",
   "execution_count": null,
   "metadata": {},
   "outputs": [],
   "source": [
    "class arbolBinario:\n",
    "    def __init__(self, dato, left=None, right=None):\n",
    "        self.dato = dato\n",
    "        self.left = left\n",
    "        self.right = right"
   ]
  },
  {
   "cell_type": "code",
   "execution_count": null,
   "metadata": {},
   "outputs": [],
   "source": [
    "root = arbolBinario(\"Productos\")\n",
    "d1 = arbolBinario(\"Perecibles\")\n",
    "d2 = arbolBinario(\"No Perecibles\")\n",
    "\n",
    "root.left = d1\n",
    "root.right = d2"
   ]
  },
  {
   "cell_type": "code",
   "execution_count": null,
   "metadata": {},
   "outputs": [],
   "source": [
    "print(root)\n",
    "print(root.left)\n",
    "print(root.right)"
   ]
  }
 ],
 "metadata": {
  "language_info": {
   "name": "python"
  }
 },
 "nbformat": 4,
 "nbformat_minor": 2
}
