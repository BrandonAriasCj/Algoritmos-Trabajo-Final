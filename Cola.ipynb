{
 "cells": [
  {
   "cell_type": "code",
   "execution_count": null,
   "metadata": {
    "vscode": {
     "languageId": "plaintext"
    }
   },
   "outputs": [],
   "source": [
    "print(\"toca chambear pepepeeee\")"
   ]
  },
  {
   "cell_type": "code",
   "execution_count": null,
   "metadata": {
    "vscode": {
     "languageId": "plaintext"
    }
   },
   "outputs": [],
   "source": [
    "pritn(\" \")\n"
   ]
  },
  {
   "cell_type": "code",
   "execution_count": null,
   "metadata": {
    "vscode": {
     "languageId": "plaintext"
    }
   },
   "outputs": [],
   "source": [
    "class ColaDob:\n",
    "    def __init__(self, limit=20):\n",
    "        self.limite = limit\n",
    "        self.front = None\n",
    "        self.rear = None\n",
    "        self.size = 0\n",
    "\n",
    "    def isEmpty(self):\n",
    "        return self.size <= 0\n",
    "\n",
    "    def isFull(self):\n",
    "        return self.size >= self.limite\n",
    "\n",
    "    def enColarD(self, data):\n",
    "        nodo =Nodo(data)\n",
    "        if self.isFull():\n",
    "            print(\"Cola llena\")\n",
    "\n",
    "        if self.isEmpty():\n",
    "            self.front = self.rear = nodo\n",
    "        else:\n",
    "            nodo.prev= self.rear\n",
    "            self.rear.next = nodo\n",
    "            self.rear=nodo\n",
    "        self.size += 1\n",
    "        return data\n",
    "\n",
    "\n",
    "    def desenColarD(self):\n",
    "        if self.isEmpty():\n",
    "            print(\"Cola vacía\")\n",
    "            return None\n",
    "        nodo = self.front\n",
    "        self.front = self.front.next\n",
    "        if self.front is None:\n",
    "            self.rear = None\n",
    "        else:\n",
    "            self.front.prev = None\n",
    "        self.size -= 1\n",
    "        return nodo.data\n",
    "\n",
    "    def imprimirColaD(self):\n",
    "        valor = self.front\n",
    "        print(\"Cola: \", end=\"\")\n",
    "        while valor:\n",
    "            print(valor.data, end=\" => \")\n",
    "            valor = valor.next\n",
    "        print(\"None\")\n",
    "\n",
    "    def captarColaS(self, ColaS):\n",
    "        if ColaS.isEmpty():\n",
    "            return\n",
    "        else:\n",
    "          self.enColarD(ColaS.desenColar())\n",
    "          self.captarColaS(ColaS)\n",
    "\n",
    "\n"
   ]
  },
  {
   "cell_type": "code",
   "execution_count": null,
   "metadata": {
    "vscode": {
     "languageId": "plaintext"
    }
   },
   "outputs": [],
   "source": [
    "class PilaSAux:\n",
    "    def __init__(self):\n",
    "        self.top = None\n",
    "        self.size = 0\n",
    "\n",
    "    def isEmpty(self):\n",
    "        return self.size <= 0\n",
    "\n",
    "    def apilarAux(self, data):\n",
    "        nodo = Nodo(data)\n",
    "        if self.isEmpty():\n",
    "            self.top = nodo\n",
    "        else:\n",
    "            nodo.next = self.top\n",
    "            self.top = nodo\n",
    "        self.size += 1\n",
    "        return data\n",
    "\n",
    "    def desenpilAux(self):\n",
    "        if self.isEmpty():\n",
    "            print(\"Pila vacía\")\n",
    "            return None\n",
    "        elim = self.top.data\n",
    "        self.top = self.top.next\n",
    "        self.size -= 1\n",
    "        return elim\n",
    "\n",
    "    def captarColaD(self, ColaDob):\n",
    "        if ColaDob.isEmpty():\n",
    "            return\n",
    "        else:\n",
    "          self.apilarAux(ColaDob.desenColarD())\n",
    "          self.captarColaD(ColaDob)\n",
    "\n",
    "    def imprimirPilaAux(self):\n",
    "        valor = self.top\n",
    "        print(\"Pila Aux: \", end=\"\")\n",
    "        while valor:\n",
    "            print(valor.data, end=\" => \")\n",
    "            valor = valor.next\n",
    "        print(\"None\")"
   ]
  }
 ],
 "metadata": {
  "language_info": {
   "name": "python"
  }
 },
 "nbformat": 4,
 "nbformat_minor": 2
}
