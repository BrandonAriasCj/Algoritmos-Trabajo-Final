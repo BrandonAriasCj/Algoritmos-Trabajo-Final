{
 "cells": [
  {
   "cell_type": "code",
   "execution_count": 1,
   "metadata": {},
   "outputs": [],
   "source": [
    "class Nodo:\n",
    "    def __init__(self, producto):\n",
    "        self.producto = producto\n",
    "        self.siguiente = None"
   ]
  },
  {
   "cell_type": "code",
   "execution_count": 2,
   "metadata": {},
   "outputs": [],
   "source": [
    "class ListaEnlazada:\n",
    "    def __init__(self):\n",
    "        self.head = None\n",
    "\n",
    "    def insertar(self, producto):\n",
    "        nuevo_nodo = Nodo(producto)\n",
    "        if self.head is None:\n",
    "            self.head = nuevo_nodo\n",
    "        else:\n",
    "            nodo_actual = self.head\n",
    "            while nodo_actual.siguiente:\n",
    "                nodo_actual = nodo_actual.siguiente\n",
    "            nodo_actual.siguiente = nuevo_nodo\n",
    "\n",
    "    def eliminar(self, producto):\n",
    "        nodo_actual = self.head\n",
    "        nodo_anterior = None\n",
    "        \n",
    "        while nodo_actual:\n",
    "            if nodo_actual.producto == producto:\n",
    "                if nodo_anterior is None:  # eliminar cabeza\n",
    "                    self.head = nodo_actual.siguiente\n",
    "                else:\n",
    "                    nodo_anterior.siguiente = nodo_actual.siguiente\n",
    "                return True  # Producto eliminado\n",
    "            nodo_anterior = nodo_actual\n",
    "            nodo_actual = nodo_actual.siguiente\n",
    "            \n",
    "        return False  \n",
    "\n",
    "    def mostrar(self):\n",
    "        nodo_actual = self.head\n",
    "        while nodo_actual:\n",
    "            print(nodo_actual.producto)\n",
    "            nodo_actual = nodo_actual.siguiente"
   ]
  },
  {
   "cell_type": "code",
   "execution_count": 6,
   "metadata": {},
   "outputs": [
    {
     "name": "stdout",
     "output_type": "stream",
     "text": [
      "Productos en la lista:\n",
      "Manzanas\n",
      "Bananas\n",
      "Naranjas\n",
      "Elimina producto\n",
      "Productos en lista despues de iliminar:\n",
      "Manzanas\n",
      "Naranjas\n"
     ]
    }
   ],
   "source": [
    "lista_productos = ListaEnlazada()\n",
    "\n",
    "lista_productos.insertar(\"Manzanas\")\n",
    "lista_productos.insertar(\"Bananas\")\n",
    "lista_productos.insertar(\"Naranjas\")\n",
    "\n",
    "print(\"Productos en la lista:\")\n",
    "lista_productos.mostrar()\n",
    "\n",
    "print(\"Elimina producto\")\n",
    "lista_productos.eliminar(\"Bananas\")\n",
    "\n",
    "print(\"Productos en lista despues de iliminar:\")\n",
    "lista_productos.mostrar()\n"
   ]
  }
 ],
 "metadata": {
  "kernelspec": {
   "display_name": "Python 3",
   "language": "python",
   "name": "python3"
  },
  "language_info": {
   "codemirror_mode": {
    "name": "ipython",
    "version": 3
   },
   "file_extension": ".py",
   "mimetype": "text/x-python",
   "name": "python",
   "nbconvert_exporter": "python",
   "pygments_lexer": "ipython3",
   "version": "3.10.11"
  }
 },
 "nbformat": 4,
 "nbformat_minor": 2
}
