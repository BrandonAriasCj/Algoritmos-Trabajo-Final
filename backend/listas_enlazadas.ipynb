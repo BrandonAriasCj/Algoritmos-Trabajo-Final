{
 "cells": [
  {
   "cell_type": "code",
   "execution_count": 1,
   "metadata": {},
   "outputs": [
    {
     "name": "stdout",
     "output_type": "stream",
     "text": [
      "Productos antes de la eliminación:\n",
      "Nombre: Manzana, Categoría: Fruta, Fecha de Expiración: 2024-10-30, Cantidad: 50\n",
      "Nombre: Lechuga, Categoría: Vegetal, Fecha de Expiración: 2024-10-28, Cantidad: 30\n",
      "Nombre: Pollo, Categoría: Carnes, Fecha de Expiración: 2024-10-25, Cantidad: 20\n",
      "Producto 'Lechuga' eliminado.\n",
      "\n",
      "Productos después de la eliminación:\n",
      "Nombre: Manzana, Categoría: Fruta, Fecha de Expiración: 2024-10-30, Cantidad: 50\n",
      "Nombre: Pollo, Categoría: Carnes, Fecha de Expiración: 2024-10-25, Cantidad: 20\n"
     ]
    }
   ],
   "source": [
    "# Nodo de la lista enlazada\n",
    "class Nodo:\n",
    "    def __init__(self, producto):\n",
    "        self.producto = producto\n",
    "        self.siguiente = None\n",
    "\n",
    "# Clase de la lista enlazada\n",
    "class ListaEnlazada:\n",
    "    def __init__(self):\n",
    "        self.cabeza = None\n",
    "\n",
    "    def agregar_producto(self, producto):\n",
    "        nuevo_nodo = Nodo(producto)\n",
    "        if self.cabeza is None:\n",
    "            self.cabeza = nuevo_nodo\n",
    "        else:\n",
    "            actual = self.cabeza\n",
    "            while actual.siguiente is not None:\n",
    "                actual = actual.siguiente\n",
    "            actual.siguiente = nuevo_nodo\n",
    "\n",
    "    def obtener_productos(self):\n",
    "        productos = []\n",
    "        actual = self.cabeza\n",
    "        while actual is not None:\n",
    "            productos.append(actual.producto)\n",
    "            actual = actual.siguiente\n",
    "        return productos\n",
    "\n",
    "    def mostrar_productos(self):\n",
    "        actual = self.cabeza\n",
    "        while actual is not None:\n",
    "            print(f\"Nombre: {actual.producto['nombre']}, Categoría: {actual.producto['categoria']}, Fecha de Expiración: {actual.producto['fecha_expiracion']}, Cantidad: {actual.producto['cantidad']}\")\n",
    "            actual = actual.siguiente\n",
    "\n",
    "    def eliminar_producto(self, nombre_producto):\n",
    "        actual = self.cabeza\n",
    "        anterior = None\n",
    "\n",
    "        while actual is not None:\n",
    "            if actual.producto['nombre'] == nombre_producto:\n",
    "                if anterior is None:  # El producto a eliminar es el primero\n",
    "                    self.cabeza = actual.siguiente\n",
    "                else:\n",
    "                    anterior.siguiente = actual.siguiente\n",
    "                print(f\"Producto '{nombre_producto}' eliminado.\")\n",
    "                return\n",
    "            anterior = actual\n",
    "            actual = actual.siguiente\n",
    "        \n",
    "        print(f\"Producto '{nombre_producto}' no encontrado.\")\n"
   ]
  }
 ],
 "metadata": {
  "kernelspec": {
   "display_name": "Python 3",
   "language": "python",
   "name": "python3"
  },
  "language_info": {
   "codemirror_mode": {
    "name": "ipython",
    "version": 3
   },
   "file_extension": ".py",
   "mimetype": "text/x-python",
   "name": "python",
   "nbconvert_exporter": "python",
   "pygments_lexer": "ipython3",
   "version": "3.10.11"
  }
 },
 "nbformat": 4,
 "nbformat_minor": 2
}
