{
 "cells": [
  {
   "cell_type": "markdown",
   "metadata": {},
   "source": [
    "# **Prueba 1:**"
   ]
  },
  {
   "cell_type": "code",
   "execution_count": 38,
   "metadata": {},
   "outputs": [],
   "source": [
    "from datetime import datetime\n",
    "\n",
    "class Producto:\n",
    "    def __init__(self, nombre, fecha_vencimiento=None, perecible=False):\n",
    "        self.nombre = nombre\n",
    "        # Convertir la fecha de vencimiento a un objeto datetime si se proporciona\n",
    "        self.fecha_vencimiento = datetime.strptime(fecha_vencimiento, \"%Y-%m-%d\") if fecha_vencimiento else None\n",
    "        self.perecible = perecible\n",
    "\n",
    "class Nodo:\n",
    "    def __init__(self, tipo):\n",
    "        self.tipo = tipo  # Tipo de producto (cárnicos, lácteos, conservas, etc.)\n",
    "        self.productos = []  # Lista de productos de este tipo\n",
    "        self.hijos = []  # Subcategorías o más productos\n",
    "\n",
    "    def agregar_producto(self, producto):\n",
    "        self.productos.append(producto)\n",
    "        if producto.perecible:\n",
    "            # Ordenar productos perecibles por fecha de vencimiento, más próximo primero\n",
    "            self.productos.sort(key=lambda x: x.fecha_vencimiento)\n",
    "\n",
    "    def agregar_hijo(self, nodo):\n",
    "        self.hijos.append(nodo)\n",
    "\n",
    "    def buscar_producto_por_tipo(self, tipo):\n",
    "        # Búsqueda por tipo de producto en el árbol\n",
    "        if self.tipo == tipo:\n",
    "            return self.productos\n",
    "        for hijo in self.hijos:\n",
    "            resultado = hijo.buscar_producto_por_tipo(tipo)\n",
    "            if resultado:\n",
    "                return resultado\n",
    "        return []\n",
    "\n",
    "    def buscar_productos_perecibles(self):\n",
    "        \"\"\"Devuelve una lista de productos perecibles en este nodo y sus hijos.\"\"\"\n",
    "        productos_perecibles = []\n",
    "        \n",
    "        # Agregar productos perecibles del nodo actual\n",
    "        for producto in self.productos:\n",
    "            if producto.perecible:\n",
    "                productos_perecibles.append(producto)\n",
    "        \n",
    "        # Agregar productos perecibles de los hijos\n",
    "        for hijo in self.hijos:\n",
    "            productos_perecibles.extend(hijo.buscar_productos_perecibles())\n",
    "            \n",
    "        return productos_perecibles\n",
    "    \n",
    "    def buscar_producto_por_vencimiento(self, fecha):\n",
    "        # Convertir la fecha de búsqueda a un objeto datetime\n",
    "        fecha_busqueda = datetime.strptime(fecha, \"%Y-%m-%d\")\n",
    "        productos_vencidos = []\n",
    "        for producto in self.productos:\n",
    "            if producto.perecible and producto.fecha_vencimiento <= fecha_busqueda:\n",
    "                productos_vencidos.append(producto)\n",
    "        for hijo in self.hijos:\n",
    "            productos_vencidos.extend(hijo.buscar_producto_por_vencimiento(fecha))\n",
    "        return productos_vencidos\n",
    "\n",
    "\n",
    "# Crear un árbol genérico de productos\n",
    "arbol_productos = Nodo(\"Almacén\")\n",
    "\n",
    "# Crear nodos para tipos de productos\n",
    "frutas = Nodo(\"Frutas\")\n",
    "verduras = Nodo(\"Verduras\")\n",
    "conservas = Nodo(\"Conservas\")\n",
    "granos = Nodo(\"Granos\")\n",
    "\n",
    "# Agregar los nodos de tipos de productos al árbol principal\n",
    "arbol_productos.agregar_hijo(frutas)\n",
    "arbol_productos.agregar_hijo(verduras)\n",
    "arbol_productos.agregar_hijo(conservas)\n",
    "arbol_productos.agregar_hijo(granos)\n",
    " \n",
    "# Agregar productos a cada tipo\n",
    "frutas.agregar_producto(Producto(\"Manzana\", \"2024-11-10\", perecible=True))\n",
    "frutas.agregar_producto(Producto(\"Melocoton\", \"2024-11-15\", perecible=True))\n",
    "frutas.agregar_producto(Producto(\"Platano\", \"2024-12-01\", perecible=True))\n",
    "verduras.agregar_producto(Producto(\"Lechuga\", \"2024-10-30\", perecible=True))\n",
    "verduras.agregar_producto(Producto(\"Rabanito\", \"2024-11-10\", perecible=True))\n",
    "verduras.agregar_producto(Producto(\"Brocoli\", \"2024-11-05\", perecible=True))\n",
    "conservas.agregar_producto(Producto(\"Filete de atún en aceite vegetal\", perecible=False))\n",
    "conservas.agregar_producto(Producto(\"Conserva de piña en almíbar\", perecible=False))\n",
    "conservas.agregar_producto(Producto(\"Conserva de durazno\", perecible=False))\n",
    "granos.agregar_producto(Producto(\"Avena\", perecible=False))\n",
    "granos.agregar_producto(Producto(\"Arroz\", perecible=False))\n",
    "granos.agregar_producto(Producto(\"Quinoa\", perecible=False))\n",
    "granos.agregar_producto(Producto(\"Pasta\", perecible=False))"
   ]
  },
  {
   "cell_type": "code",
   "execution_count": 39,
   "metadata": {},
   "outputs": [],
   "source": [
    "class NodoProducto:\n",
    "    def __init__(self, producto):\n",
    "        self.producto = producto  # Almacena el producto\n",
    "        self.siguiente = None  # Puntero al siguiente nodo"
   ]
  },
  {
   "cell_type": "code",
   "execution_count": 60,
   "metadata": {},
   "outputs": [],
   "source": [
    "class PilaProductosPerecibles:\n",
    "    def __init__(self):\n",
    "        self.cima = None\n",
    "\n",
    "    def esta_vacia(self):\n",
    "        return self.cima is None\n",
    "\n",
    "    def push(self, producto):\n",
    "        if not producto.perecible:\n",
    "            raise ValueError(\"Solo se pueden agregar productos perecibles a la pila.\")\n",
    "        \n",
    "        nuevo_nodo = NodoProducto(producto)\n",
    "        nuevo_nodo.siguiente = self.cima\n",
    "        self.cima = nuevo_nodo\n",
    "\n",
    "    def pop(self):\n",
    "        if self.esta_vacia():\n",
    "            raise IndexError(\"La pila está vacía\")\n",
    "        producto = self.cima.producto\n",
    "        self.cima = self.cima.siguiente\n",
    "        return producto\n",
    "\n",
    "    def peek(self):\n",
    "        if self.esta_vacia():\n",
    "            raise IndexError(\"La pila está vacía\")\n",
    "        return self.cima.producto\n",
    "\n",
    "    def mostrar_pila(self):\n",
    "        nodos = []\n",
    "        actual = self.cima\n",
    "        while actual:\n",
    "            nodos.append(actual.producto.nombre)\n",
    "            actual = actual.siguiente\n",
    "        print(\" -> \".join(nodos))\n",
    "\n",
    "    def llenar_desde_arbol(self, arbol):\n",
    "        \"\"\"Llena la pila con productos perecibles desde el árbol.\"\"\"\n",
    "        productos_perecibles = arbol.buscar_productos_perecibles()\n",
    "        for producto in productos_perecibles:\n",
    "            self.push(producto)\n",
    "    \n",
    "    def filtrar_por_fecha(self, fecha_ingresada):\n",
    "        fecha_busqueda = datetime.strptime(fecha_ingresada, \"%Y-%m-%d\")\n",
    "        actual = self.cima\n",
    "        print(f\"\\nProductos que vencen después de {fecha_ingresada}:\")\n",
    "\n",
    "        while actual:\n",
    "            if actual.producto.fecha_vencimiento > fecha_busqueda:\n",
    "                print(f\"Producto: {actual.producto.nombre}, Fecha de vencimiento: {actual.producto.fecha_vencimiento.strftime('%Y-%m-%d')}\")\n",
    "            actual = actual.siguiente\n",
    "    \n",
    "    def mostrar_menor_fecha(self, fecha_ingresada):\n",
    "        fecha_busqueda = datetime.strptime(fecha_ingresada, \"%Y-%m-%d\")\n",
    "        actual = self.cima\n",
    "        print(f\"\\nProductos que vencen antes de {fecha_ingresada}:\")\n",
    "\n",
    "        while actual:\n",
    "            if actual.producto.fecha_vencimiento < fecha_busqueda:\n",
    "                print(f\"Producto: {actual.producto.nombre}, Fecha de vencimiento: {actual.producto.fecha_vencimiento.strftime('%Y-%m-%d')}\")\n",
    "            actual = actual.siguiente"
   ]
  },
  {
   "cell_type": "code",
   "execution_count": 61,
   "metadata": {},
   "outputs": [],
   "source": [
    "pila_perecibles = PilaProductosPerecibles()\n",
    "pila_perecibles.llenar_desde_arbol(arbol_productos)"
   ]
  },
  {
   "cell_type": "code",
   "execution_count": 65,
   "metadata": {},
   "outputs": [
    {
     "name": "stdout",
     "output_type": "stream",
     "text": [
      "Productos perecibles en la pila:\n",
      "Rabanito -> Brocoli -> Lechuga -> Platano -> Melocoton -> Manzana\n"
     ]
    }
   ],
   "source": [
    "print(\"Productos perecibles en la pila:\")\n",
    "pila_perecibles.mostrar_pila()"
   ]
  },
  {
   "cell_type": "code",
   "execution_count": 66,
   "metadata": {},
   "outputs": [
    {
     "name": "stdout",
     "output_type": "stream",
     "text": [
      "\n",
      "Productos que vencen después de 2024-11-15:\n",
      "Producto: Platano, Fecha de vencimiento: 2024-12-01\n"
     ]
    }
   ],
   "source": [
    "fecha_ingresada = input(\"Ingrese la fecha de vencimiento que desea ver: \")\n",
    "pila_perecibles.filtrar_por_fecha(fecha_ingresada)"
   ]
  },
  {
   "cell_type": "code",
   "execution_count": 67,
   "metadata": {},
   "outputs": [
    {
     "name": "stdout",
     "output_type": "stream",
     "text": [
      "\n",
      "Productos que vencen antes de 2024-11-15:\n",
      "Producto: Rabanito, Fecha de vencimiento: 2024-11-10\n",
      "Producto: Brocoli, Fecha de vencimiento: 2024-11-05\n",
      "Producto: Lechuga, Fecha de vencimiento: 2024-10-30\n",
      "Producto: Manzana, Fecha de vencimiento: 2024-11-10\n"
     ]
    }
   ],
   "source": [
    "fecha_ingresada = input(\"Ingrese la fecha de vencimiento que desea ver: \")\n",
    "pila_perecibles.mostrar_menor_fecha(fecha_ingresada)"
   ]
  },
  {
   "cell_type": "markdown",
   "metadata": {},
   "source": [
    "# **Prueba 2:**"
   ]
  },
  {
   "cell_type": "code",
   "execution_count": null,
   "metadata": {},
   "outputs": [],
   "source": [
    "\n"
   ]
  }
 ],
 "metadata": {
  "kernelspec": {
   "display_name": "Python 3",
   "language": "python",
   "name": "python3"
  },
  "language_info": {
   "codemirror_mode": {
    "name": "ipython",
    "version": 3
   },
   "file_extension": ".py",
   "mimetype": "text/x-python",
   "name": "python",
   "nbconvert_exporter": "python",
   "pygments_lexer": "ipython3",
   "version": "3.10.11"
  }
 },
 "nbformat": 4,
 "nbformat_minor": 2
}
