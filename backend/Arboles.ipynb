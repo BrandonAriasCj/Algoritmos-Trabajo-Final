{
 "cells": [
  {
   "cell_type": "code",
   "execution_count": 1,
   "metadata": {},
   "outputs": [],
   "source": [
    "class ArbolBinario:\n",
    "    def __init__(self, dato, left=None, right=None):\n",
    "        self.dato = dato\n",
    "        self.izquierda = left\n",
    "        self.derecha = right"
   ]
  },
  {
   "cell_type": "code",
   "execution_count": 2,
   "metadata": {},
   "outputs": [],
   "source": [
    "class ArbolBinario:\n",
    "    def __init__(self):\n",
    "        self.raiz = None\n",
    "\n",
    "    def agregar_producto(self, producto):\n",
    "        if self.raiz is None:\n",
    "            self.raiz = NodoArbol(producto)\n",
    "        else:\n",
    "            self._agregar(self.raiz, producto)\n",
    "\n",
    "    def _agregar(self, nodo, producto):\n",
    "        if producto['id'] < nodo.producto['id']:\n",
    "            if nodo.izquierda is None:\n",
    "                nodo.izquierda = NodoArbol(producto)\n",
    "            else:\n",
    "                self._agregar(nodo.izquierda, producto)\n",
    "        elif producto['id'] > nodo.producto['id']:\n",
    "            if nodo.derecha is None:\n",
    "                nodo.derecha = NodoArbol(producto)\n",
    "            else:\n",
    "                self._agregar(nodo.derecha, producto)\n",
    "\n",
    "    def buscar_producto(self, id_producto):\n",
    "        return self._buscar(self.raiz, id_producto)\n",
    "\n",
    "    def _buscar(self, nodo, id_producto):\n",
    "        if nodo is None:\n",
    "            return None\n",
    "        if id_producto == nodo.producto['id']:\n",
    "            return nodo.producto\n",
    "        elif id_producto < nodo.producto['id']:\n",
    "            return self._buscar(nodo.izquierda, id_producto)\n",
    "        else:\n",
    "            return self._buscar(nodo.derecha, id_producto)"
   ]
  },
  {
   "cell_type": "code",
   "execution_count": 5,
   "metadata": {},
   "outputs": [
    {
     "name": "stdout",
     "output_type": "stream",
     "text": [
      "Productos\n",
      "Perecibles\n",
      "No Perecibles\n"
     ]
    }
   ],
   "source": [
<<<<<<< HEAD
    "raiz = ArbolBinario(\"Productos\")\n",
    "d1 = ArbolBinario(\"Perecibles\")\n",
    "d2 = ArbolBinario(\"No Perecibles\")\n",
    "\n",
    "raiz.izquierda = d1\n",
    "raiz.derecha = d2"
   ]
  },
  {
   "cell_type": "code",
   "execution_count": null,
   "metadata": {},
   "outputs": [],
   "source": [
    "print(raiz)\n",
    "print(raiz.left)\n",
    "print(raiz.right)"
=======
    "print(root.dato)\n",
    "print(root.left.dato)\n",
    "print(root.right.dato)"
>>>>>>> 52a65d3c2bfa7e4627fb1c987dc7f78214e61b55
   ]
  }
 ],
 "metadata": {
  "kernelspec": {
   "display_name": "Python 3",
   "language": "python",
   "name": "python3"
  },
  "language_info": {
   "codemirror_mode": {
    "name": "ipython",
    "version": 3
   },
   "file_extension": ".py",
   "mimetype": "text/x-python",
   "name": "python",
   "nbconvert_exporter": "python",
   "pygments_lexer": "ipython3",
   "version": "3.10.11"
  }
 },
 "nbformat": 4,
 "nbformat_minor": 2
}
