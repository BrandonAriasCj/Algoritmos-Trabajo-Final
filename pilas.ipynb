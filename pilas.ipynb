{
 "cells": [
  {
   "cell_type": "code",
   "execution_count": 2,
   "metadata": {},
   "outputs": [],
   "source": [
    "#Nodo de una lista enlazada simple\n",
    "class Node:\n",
    "\n",
    "  #Constructor:\n",
    "  def __init__(self, data):\n",
    "    self.data = data\n",
    "    self.next = None\n",
    "\n",
    "  #Devuelve verdadero si el nodo apunta a otro nodo:\n",
    "  def hasNext(self):\n",
    "    return self.next != None"
   ]
  },
  {
   "cell_type": "code",
   "execution_count": 3,
   "metadata": {},
   "outputs": [],
   "source": [
    "#Lista enlazada apilada\n",
    "class StackLinkedList:\n",
    "\n",
    "  #Constructor:\n",
    "  def __init__(self, data=None):\n",
    "    self.head = None\n",
    "    if data:\n",
    "      for d in data:\n",
    "        self.agregarElemento(d)\n",
    "\n",
    "  def agregarElemento(self, data):\n",
    "    temp = Node(data)\n",
    "    temp.data  = data\n",
    "    temp.next = self.head\n",
    "    self.head = temp\n",
    "\n",
    "  def eliminarElemento(self):\n",
    "    if self.head is None:\n",
    "      #raise IndexError\n",
    "      print('Desbordamiento')\n",
    "      return -1\n",
    "    temp = self.head.data\n",
    "    self.head = self.head.next\n",
    "    return temp\n",
    "\n",
    "  def mostrarUltimo(self):\n",
    "    if self.head is None:\n",
    "      raise IndexError\n",
    "    return self.head.data\n",
    "\n",
    "  def print(self):\n",
    "    node = self.head\n",
    "    while node != None:\n",
    "      print(node.data, end = '=>')\n",
    "      node = node.next\n",
    "    print('Null')\n",
    "\n",
    "  #Obtener la longitud de la lista enlazada:\n",
    "  def listLength(self):\n",
    "    current = self.head\n",
    "    count = 0\n",
    "    while current != None:\n",
    "      count = count + 1\n",
    "      current = current.next\n",
    "    return count"
   ]
  },
  {
   "cell_type": "code",
   "execution_count": 5,
   "metadata": {},
   "outputs": [],
   "source": [
    "pila1 = StackLinkedList()"
   ]
  },
  {
   "cell_type": "code",
   "execution_count": 6,
   "metadata": {},
   "outputs": [],
   "source": [
    "pila1.agregarElemento(15)\n",
    "pila1.agregarElemento(12)"
   ]
  },
  {
   "cell_type": "code",
   "execution_count": 9,
   "metadata": {},
   "outputs": [
    {
     "name": "stdout",
     "output_type": "stream",
     "text": [
      "12=>15=>Null\n"
     ]
    }
   ],
   "source": [
    "pila1.print()"
   ]
  }
 ],
 "metadata": {
  "kernelspec": {
   "display_name": "Python 3",
   "language": "python",
   "name": "python3"
  },
  "language_info": {
   "codemirror_mode": {
    "name": "ipython",
    "version": 3
   },
   "file_extension": ".py",
   "mimetype": "text/x-python",
   "name": "python",
   "nbconvert_exporter": "python",
   "pygments_lexer": "ipython3",
   "version": "3.10.11"
  }
 },
 "nbformat": 4,
 "nbformat_minor": 2
}
