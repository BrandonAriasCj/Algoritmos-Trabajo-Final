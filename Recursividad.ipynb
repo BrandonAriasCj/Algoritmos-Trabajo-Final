{
 "cells": [
  {
   "cell_type": "code",
   "execution_count": 2,
   "metadata": {},
   "outputs": [
    {
     "data": {
      "text/plain": [
       "' \\n\\nvalor_buscado = 7\\nif buscar_bst(raiz, valor_buscado):\\n    print(\"¡Valor encontrado en el BST!\")\\nelse:\\n    print(\"Valor no encontrado en el BST.\") \\n\\n'"
      ]
     },
     "execution_count": 2,
     "metadata": {},
     "output_type": "execute_result"
    }
   ],
   "source": [
    "def buscar_bst(nodo, valor_buscado):\n",
    "    # Si el nodo es None, no hay nada que buscar\n",
    "    if nodo is None:\n",
    "        return False\n",
    "    \n",
    "    # Si encontramos el valor en el nodo actual\n",
    "    if nodo.valor == valor_buscado:\n",
    "        return True\n",
    "    \n",
    "    # Si el valor buscado es menor, buscamos en el subárbol izquierdo\n",
    "    if valor_buscado < nodo.valor:\n",
    "        return buscar_bst(nodo.izquierdo, valor_buscado)\n",
    "    \n",
    "    # Si el valor buscado es mayor, buscamos en el subárbol derecho\n",
    "    return buscar_bst(nodo.derecho, valor_buscado)\n",
    "\n",
    "# Ejemplo de uso\n",
    "\"\"\" \n",
    "\n",
    "valor_buscado = 7\n",
    "if buscar_bst(raiz, valor_buscado):\n",
    "    print(\"¡Valor encontrado en el BST!\")\n",
    "else:\n",
    "    print(\"Valor no encontrado en el BST.\") \n",
    "\n",
    "\"\"\"\n"
   ]
  }
 ],
 "metadata": {
  "kernelspec": {
   "display_name": "Python 3",
   "language": "python",
   "name": "python3"
  },
  "language_info": {
   "codemirror_mode": {
    "name": "ipython",
    "version": 3
   },
   "file_extension": ".py",
   "mimetype": "text/x-python",
   "name": "python",
   "nbconvert_exporter": "python",
   "pygments_lexer": "ipython3",
   "version": "3.12.4"
  }
 },
 "nbformat": 4,
 "nbformat_minor": 2
}
